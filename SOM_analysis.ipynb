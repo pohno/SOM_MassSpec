{
 "cells": [
  {
   "cell_type": "markdown",
   "metadata": {},
   "source": [
    "Imports:"
   ]
  },
  {
   "cell_type": "code",
   "execution_count": null,
   "metadata": {},
   "outputs": [],
   "source": [
    "import os\n",
    "import pandas as pd\n",
    "import re\n",
    "import numpy as np"
   ]
  },
  {
   "cell_type": "markdown",
   "metadata": {},
   "source": [
    "Filenames and paths:"
   ]
  },
  {
   "cell_type": "code",
   "execution_count": null,
   "metadata": {},
   "outputs": [],
   "source": [
    "#path for input and output\n",
    "inputpath = './exampleData/inputs'\n",
    "outputpath = './exampleData'\n",
    "\n",
    "\n",
    "#filepath and name for metabolite file\n",
    "f_met = inputpath + '/' + 'sampleTransformationFile.txt'\n",
    "\n",
    "#filepath and name for peak lists\n",
    "f1name = inputpath +'/' + 'Time0.xlsx'\n",
    "f2name = inputpath + '/' + 'Time5.xlsx'"
   ]
  },
  {
   "cell_type": "markdown",
   "metadata": {},
   "source": [
    "Import metabolite list and calculate element columns to match format:"
   ]
  },
  {
   "cell_type": "code",
   "execution_count": null,
   "metadata": {},
   "outputs": [],
   "source": [
    "#import dataframe of metabolites\n",
    "df_met = pd.read_csv(f_met,sep=\"\\t\")\n",
    "df_met.rename(columns = {'no':'Formula'}, inplace = True) \n",
    "\n",
    "#add columns for each element\n",
    "df_met['C'] = pd.Series([0] * len(df_met.index))\n",
    "df_met['H'] = pd.Series([0] * len(df_met.index))\n",
    "df_met['N'] = pd.Series([0] * len(df_met.index))\n",
    "df_met['O'] = pd.Series([0] * len(df_met.index))\n",
    "df_met['S'] = pd.Series([0] * len(df_met.index))\n",
    "df_met['P'] = pd.Series([0] * len(df_met.index))\n",
    "\n",
    "#iterate through dataframe (should vectorize for better performance) and populate element columns\n",
    "#turn off warning\n",
    "pd.options.mode.chained_assignment = None  # default='warn'\n",
    "for row in range(len(df_met.index)):\n",
    "    a = re.findall(r'([A-Z][a-z]*)(\\d*)', df_met['Formula'][row])\n",
    "    for b in a:\n",
    "        if b[1] == '':\n",
    "            df_met[b[0]][row] = 1\n",
    "        else:\n",
    "            df_met[b[0]][row] = int(b[1])\n",
    "print('Metabolites:')\n",
    "print(df_met)"
   ]
  },
  {
   "cell_type": "markdown",
   "metadata": {},
   "source": [
    "Do subtraction and comparison:"
   ]
  },
  {
   "cell_type": "code",
   "execution_count": null,
   "metadata": {},
   "outputs": [],
   "source": [
    "#import two peak lists\n",
    "df1 =  pd.read_excel(f1name)\n",
    "df2 =  pd.read_excel(f2name)\n",
    "\n",
    "#output file\n",
    "f_out_name = outputpath + '/' + 'CountForEachMetabolite.csv'\n",
    "f_out = open(f_out_name,'w')\n",
    "f_out.write('Name,Count\\n')\n",
    "\n",
    "#slice dataframes into only columns to compare\n",
    "df1comp = df1.loc[:, ['C', 'H', 'N','O','S','P']]\n",
    "df2comp = df1.loc[:, ['C', 'H', 'N','O','S','P']]\n",
    "df_metcomp = df_met.loc[:, ['C', 'H', 'N','O','S','P']]\n",
    "\n",
    "for row in range(len(df_met.index)):\n",
    "    met = df_metcomp.loc[row]\n",
    "    df1sub = df1comp-met\n",
    "    df = pd.merge(df1sub, df2comp, how='left', indicator='Exist')\n",
    "    df['Exist'] = np.where(df.Exist == 'both', True, False)\n",
    "    matches = df1[df.Exist==True]\n",
    "    print(matches)\n",
    "    name = outputpath + '/met' + str(row) + '_' + df_met['Isomeric'][row] + '.csv'\n",
    "    matches.to_csv(name)\n",
    "    print(df_met.loc[row][0],'\\t',len(matches.index))\n",
    "    f_out.write(str(df_met.loc[row][0])+','+str(len(matches.index))+'\\n')\n",
    "   \n",
    "f_out.close()"
   ]
  },
  {
   "cell_type": "code",
   "execution_count": null,
   "metadata": {},
   "outputs": [],
   "source": []
  }
 ],
 "metadata": {
  "kernelspec": {
   "display_name": "Python 3",
   "language": "python",
   "name": "python3"
  },
  "language_info": {
   "codemirror_mode": {
    "name": "ipython",
    "version": 3
   },
   "file_extension": ".py",
   "mimetype": "text/x-python",
   "name": "python",
   "nbconvert_exporter": "python",
   "pygments_lexer": "ipython3",
   "version": "3.7.4"
  }
 },
 "nbformat": 4,
 "nbformat_minor": 4
}
